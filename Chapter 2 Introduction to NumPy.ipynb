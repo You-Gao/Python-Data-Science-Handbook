{
 "cells": [
  {
   "cell_type": "code",
   "execution_count": null,
   "metadata": {},
   "outputs": [],
   "source": [
    "import numpy as np\n",
    "import random as rand\n",
    "\n",
    "np.__version__"
   ]
  },
  {
   "cell_type": "code",
   "execution_count": null,
   "metadata": {},
   "outputs": [],
   "source": [
    "np.zeros(10, dtype = float)"
   ]
  },
  {
   "cell_type": "code",
   "execution_count": null,
   "metadata": {},
   "outputs": [],
   "source": [
    "np.zeros((10,2))"
   ]
  },
  {
   "cell_type": "code",
   "execution_count": null,
   "metadata": {},
   "outputs": [],
   "source": [
    "np.ones((2,2))"
   ]
  },
  {
   "cell_type": "code",
   "execution_count": null,
   "metadata": {},
   "outputs": [],
   "source": [
    "np.full((2,1),3)"
   ]
  },
  {
   "cell_type": "code",
   "execution_count": null,
   "metadata": {},
   "outputs": [],
   "source": [
    "np.arange(0,10,1)"
   ]
  },
  {
   "cell_type": "code",
   "execution_count": null,
   "metadata": {},
   "outputs": [],
   "source": [
    "np.linspace(0,10,5)"
   ]
  },
  {
   "cell_type": "code",
   "execution_count": null,
   "metadata": {},
   "outputs": [],
   "source": [
    "np.random.normal(0,1,(2,5)) # from normal distribution 0 mean 1 variance"
   ]
  },
  {
   "cell_type": "code",
   "execution_count": null,
   "metadata": {},
   "outputs": [],
   "source": [
    "np.random.uniform(0,1,(1,1)) # uniform from uniform distribution"
   ]
  },
  {
   "cell_type": "code",
   "execution_count": null,
   "metadata": {},
   "outputs": [],
   "source": [
    "np.random.random((3,3)) # uniform from 0 , 1"
   ]
  },
  {
   "cell_type": "code",
   "execution_count": null,
   "metadata": {},
   "outputs": [],
   "source": [
    "np.random.randint(0,2,(10,3))"
   ]
  },
  {
   "cell_type": "code",
   "execution_count": null,
   "metadata": {},
   "outputs": [],
   "source": [
    "np.eye(2)"
   ]
  },
  {
   "cell_type": "code",
   "execution_count": null,
   "metadata": {},
   "outputs": [],
   "source": [
    "np.empty(2)"
   ]
  },
  {
   "cell_type": "code",
   "execution_count": null,
   "metadata": {},
   "outputs": [],
   "source": [
    "x2 = np.random.randint(0, 15, (3,4))\n",
    "\n",
    "print(x2)"
   ]
  },
  {
   "cell_type": "code",
   "execution_count": null,
   "metadata": {},
   "outputs": [],
   "source": [
    "x2[:2, :2]"
   ]
  },
  {
   "cell_type": "code",
   "execution_count": null,
   "metadata": {},
   "outputs": [],
   "source": [
    "x2[::-1, ::-1]"
   ]
  },
  {
   "cell_type": "code",
   "execution_count": null,
   "metadata": {},
   "outputs": [],
   "source": [
    "string = 'banana'\n",
    "\n",
    "string[:1:1]"
   ]
  },
  {
   "cell_type": "code",
   "execution_count": null,
   "metadata": {},
   "outputs": [],
   "source": [
    "x =  np.array([1,2,3])\n",
    "\n",
    "x.shape"
   ]
  },
  {
   "cell_type": "code",
   "execution_count": null,
   "metadata": {},
   "outputs": [],
   "source": [
    "y = x[np.newaxis, :]\n",
    "\n",
    "print(y.shape)\n",
    "\n"
   ]
  },
  {
   "cell_type": "code",
   "execution_count": null,
   "metadata": {},
   "outputs": [],
   "source": [
    "u = x[:, np.newaxis]\n",
    "\n",
    "print(u.shape)\n",
    "\n"
   ]
  },
  {
   "cell_type": "code",
   "execution_count": null,
   "metadata": {},
   "outputs": [],
   "source": [
    "x = [1, 2, 3, 99, 99, 3, 2, 1]\n",
    "x1, x2, x3 = np.split(x, [3, 5])\n",
    "print(x1, x2, x3)"
   ]
  },
  {
   "cell_type": "code",
   "execution_count": null,
   "metadata": {},
   "outputs": [],
   "source": [
    "a =  np.random.random((3,4))"
   ]
  },
  {
   "cell_type": "code",
   "execution_count": null,
   "metadata": {},
   "outputs": [],
   "source": [
    "a.sum(axis = 1)\n"
   ]
  },
  {
   "cell_type": "code",
   "execution_count": null,
   "metadata": {},
   "outputs": [],
   "source": [
    "a.sum(axis = 0 )"
   ]
  },
  {
   "cell_type": "code",
   "execution_count": null,
   "metadata": {},
   "outputs": [],
   "source": [
    "rng = np.random.RandomState(0)\n",
    "x = rng.randint(10, size=(3, 4))\n",
    "x"
   ]
  },
  {
   "cell_type": "code",
   "execution_count": null,
   "metadata": {},
   "outputs": [],
   "source": [
    "x < 6"
   ]
  },
  {
   "cell_type": "code",
   "execution_count": null,
   "metadata": {},
   "outputs": [],
   "source": [
    "np.sum(x<6)"
   ]
  },
  {
   "cell_type": "code",
   "execution_count": null,
   "metadata": {},
   "outputs": [],
   "source": [
    "np.count_nonzero(x<6)"
   ]
  },
  {
   "cell_type": "code",
   "execution_count": null,
   "metadata": {},
   "outputs": [],
   "source": [
    "np.any(x<0)"
   ]
  },
  {
   "cell_type": "code",
   "execution_count": null,
   "metadata": {},
   "outputs": [],
   "source": [
    "np.all(x<10)"
   ]
  },
  {
   "cell_type": "code",
   "execution_count": null,
   "metadata": {},
   "outputs": [],
   "source": [
    "X = np.arange(12).reshape((3, 4))"
   ]
  },
  {
   "cell_type": "code",
   "execution_count": null,
   "metadata": {},
   "outputs": [],
   "source": [
    "row = np.array([0, 1, 2])\n",
    "col = np.array([2, 1, 3])\n",
    "X[row, col]"
   ]
  },
  {
   "cell_type": "code",
   "execution_count": null,
   "metadata": {},
   "outputs": [],
   "source": [
    "row[:, np.newaxis]"
   ]
  },
  {
   "cell_type": "code",
   "execution_count": null,
   "metadata": {},
   "outputs": [],
   "source": [
    "import numpy\n",
    "\n",
    "mean = [0, 0]\n",
    "cov = [[1, 2],\n",
    "[2, 5]]\n",
    "X = np.random.multivariate_normal(mean, cov, 100)\n",
    "X.shape"
   ]
  },
  {
   "cell_type": "code",
   "execution_count": null,
   "metadata": {},
   "outputs": [],
   "source": [
    "X"
   ]
  },
  {
   "cell_type": "code",
   "execution_count": 96,
   "metadata": {},
   "outputs": [
    {
     "data": {
      "text/plain": [
       "<matplotlib.collections.PathCollection at 0x21dbd4ad030>"
      ]
     },
     "execution_count": 96,
     "metadata": {},
     "output_type": "execute_result"
    },
    {
     "data": {
      "image/png": "[encoded data removed]",
      "text/plain": [
       "<Figure size 640x480 with 1 Axes>"
      ]
     },
     "metadata": {},
     "output_type": "display_data"
    }
   ],
   "source": [
    "%matplotlib inline\n",
    "\n",
    "import matplotlib.pyplot as plt\n",
    "import seaborn; seaborn.set()\n",
    "\n",
    "plt.scatter(X[:, 0], X[:, 1])"
   ]
  },
  {
   "cell_type": "code",
   "execution_count": null,
   "metadata": {},
   "outputs": [],
   "source": [
    "indices = np.random.choice(X.shape[0], 20, replace=False)\n",
    "indices\n"
   ]
  },
  {
   "cell_type": "code",
   "execution_count": null,
   "metadata": {},
   "outputs": [],
   "source": [
    "selection = X[indices]\n",
    "selection.shape"
   ]
  },
  {
   "cell_type": "code",
   "execution_count": null,
   "metadata": {},
   "outputs": [],
   "source": [
    "selection"
   ]
  },
  {
   "cell_type": "code",
   "execution_count": null,
   "metadata": {},
   "outputs": [],
   "source": [
    "plt.scatter(X[:,0], X[:,1])\n",
    "plt.scatter(selection[:, 0], selection[:, 1], s=200)"
   ]
  },
  {
   "cell_type": "code",
   "execution_count": null,
   "metadata": {},
   "outputs": [],
   "source": [
    "np.random.seed(42)\n",
    "x = np.random.randn(100)\n",
    "\n",
    "bins = np.linspace(-5,5, 20)\n",
    "counts = np.zeros_like(bins)\n",
    "\n",
    "i = np.searchsorted(bins, x)\n",
    "\n",
    "np.add.at(counts, i, 1)\n",
    "\n",
    "plt.plot(bins, counts, linestyle='-')\n",
    "\n",
    "print(counts)\n",
    "\n",
    "print(bins)\n",
    "\n",
    "print(i)"
   ]
  },
  {
   "cell_type": "code",
   "execution_count": null,
   "metadata": {},
   "outputs": [],
   "source": [
    "def selection_sort(x):\n",
    "    for i in range(len(x)):\n",
    "        print(x)\n",
    "        print(i)\n",
    "        print(np.argmin(x[i:]))\n",
    "        swap = i + np.argmin(x[i:])\n",
    "        x[i], x[swap] = x[swap], x[i]\n",
    "    return x\n",
    "x = np.array([2,1,4,3,5])\n",
    "\n",
    "selection_sort(x)"
   ]
  },
  {
   "cell_type": "code",
   "execution_count": null,
   "metadata": {},
   "outputs": [],
   "source": [
    "def bogosort(x):\n",
    "    while np.any(x[:-1] > x[1:]):\n",
    "        print(x)\n",
    "        np.random.shuffle(x)\n",
    "    return x\n",
    "\n",
    "x = np.array([2, 1, 4, 3, 5])\n",
    "bogosort(x)"
   ]
  },
  {
   "cell_type": "code",
   "execution_count": 97,
   "metadata": {},
   "outputs": [
    {
     "data": {
      "text/plain": [
       "array([[0.45958406, 0.30646347],\n",
       "       [0.82238121, 0.05697873],\n",
       "       [0.41860727, 0.45843142],\n",
       "       [0.72500608, 0.57428758],\n",
       "       [0.66721234, 0.77704929],\n",
       "       [0.86220297, 0.3138755 ],\n",
       "       [0.53802271, 0.84010808],\n",
       "       [0.98945113, 0.88951931],\n",
       "       [0.37146726, 0.19516652],\n",
       "       [0.48939254, 0.74164145]])"
      ]
     },
     "execution_count": 97,
     "metadata": {},
     "output_type": "execute_result"
    }
   ],
   "source": [
    "X = np.random.random((10,2))\n",
    "\n",
    "X"
   ]
  },
  {
   "cell_type": "code",
   "execution_count": 98,
   "metadata": {},
   "outputs": [
    {
     "data": {
      "text/plain": [
       "<matplotlib.collections.PathCollection at 0x21db93acee0>"
      ]
     },
     "execution_count": 98,
     "metadata": {},
     "output_type": "execute_result"
    },
    {
     "data": {
      "image/png": "[encoded data removed]",
      "text/plain": [
       "<Figure size 640x480 with 1 Axes>"
      ]
     },
     "metadata": {},
     "output_type": "display_data"
    }
   ],
   "source": [
    "plt.scatter(X[:,0],X[:,1], s=100)"
   ]
  },
  {
   "cell_type": "code",
   "execution_count": null,
   "metadata": {},
   "outputs": [],
   "source": [
    "dist_sq = np.sum(())"
   ]
  },
  {
   "cell_type": "code",
   "execution_count": 107,
   "metadata": {},
   "outputs": [
    {
     "name": "stdout",
     "output_type": "stream",
     "text": [
      "(1, 10, 2)\n",
      "(10, 1, 2)\n"
     ]
    }
   ],
   "source": [
    "print(X[np.newaxis,:].shape)\n"
   ]
  },
  {
   "cell_type": "code",
   "execution_count": 108,
   "metadata": {},
   "outputs": [
    {
     "name": "stdout",
     "output_type": "stream",
     "text": [
      "(10, 1, 2)\n"
     ]
    },
    {
     "data": {
      "text/plain": [
       "array([[[0.45958406, 0.30646347]],\n",
       "\n",
       "       [[0.82238121, 0.05697873]],\n",
       "\n",
       "       [[0.41860727, 0.45843142]],\n",
       "\n",
       "       [[0.72500608, 0.57428758]],\n",
       "\n",
       "       [[0.66721234, 0.77704929]],\n",
       "\n",
       "       [[0.86220297, 0.3138755 ]],\n",
       "\n",
       "       [[0.53802271, 0.84010808]],\n",
       "\n",
       "       [[0.98945113, 0.88951931]],\n",
       "\n",
       "       [[0.37146726, 0.19516652]],\n",
       "\n",
       "       [[0.48939254, 0.74164145]]])"
      ]
     },
     "execution_count": 108,
     "metadata": {},
     "output_type": "execute_result"
    }
   ],
   "source": [
    "print(X[:,np.newaxis].shape)\n",
    "X[:,np.newaxis]"
   ]
  },
  {
   "cell_type": "code",
   "execution_count": 110,
   "metadata": {},
   "outputs": [
    {
     "data": {
      "text/plain": [
       "array([[[ 0.        ,  0.        ],\n",
       "        [-0.36279715,  0.24948474],\n",
       "        [ 0.04097678, -0.15196796],\n",
       "        [-0.26542202, -0.26782411],\n",
       "        [-0.20762828, -0.47058582],\n",
       "        [-0.40261892, -0.00741203],\n",
       "        [-0.07843865, -0.53364461],\n",
       "        [-0.52986707, -0.58305584],\n",
       "        [ 0.08811679,  0.11129695],\n",
       "        [-0.02980848, -0.43517798]],\n",
       "\n",
       "       [[ 0.36279715, -0.24948474],\n",
       "        [ 0.        ,  0.        ],\n",
       "        [ 0.40377394, -0.4014527 ],\n",
       "        [ 0.09737513, -0.51730885],\n",
       "        [ 0.15516887, -0.72007056],\n",
       "        [-0.03982176, -0.25689677],\n",
       "        [ 0.28435851, -0.78312935],\n",
       "        [-0.16706992, -0.83254058],\n",
       "        [ 0.45091395, -0.13818779],\n",
       "        [ 0.33298867, -0.68466272]],\n",
       "\n",
       "       [[-0.04097678,  0.15196796],\n",
       "        [-0.40377394,  0.4014527 ],\n",
       "        [ 0.        ,  0.        ],\n",
       "        [-0.3063988 , -0.11585615],\n",
       "        [-0.24860506, -0.31861786],\n",
       "        [-0.4435957 ,  0.14455593],\n",
       "        [-0.11941543, -0.38167665],\n",
       "        [-0.57084386, -0.43108789],\n",
       "        [ 0.04714001,  0.26326491],\n",
       "        [-0.07078526, -0.28321003]],\n",
       "\n",
       "       [[ 0.26542202,  0.26782411],\n",
       "        [-0.09737513,  0.51730885],\n",
       "        [ 0.3063988 ,  0.11585615],\n",
       "        [ 0.        ,  0.        ],\n",
       "        [ 0.05779374, -0.20276171],\n",
       "        [-0.1371969 ,  0.26041208],\n",
       "        [ 0.18698337, -0.2658205 ],\n",
       "        [-0.26444505, -0.31523174],\n",
       "        [ 0.35353881,  0.37912106],\n",
       "        [ 0.23561354, -0.16735388]],\n",
       "\n",
       "       [[ 0.20762828,  0.47058582],\n",
       "        [-0.15516887,  0.72007056],\n",
       "        [ 0.24860506,  0.31861786],\n",
       "        [-0.05779374,  0.20276171],\n",
       "        [ 0.        ,  0.        ],\n",
       "        [-0.19499064,  0.46317379],\n",
       "        [ 0.12918963, -0.06305879],\n",
       "        [-0.32223879, -0.11247003],\n",
       "        [ 0.29574507,  0.58188277],\n",
       "        [ 0.1778198 ,  0.03540783]],\n",
       "\n",
       "       [[ 0.40261892,  0.00741203],\n",
       "        [ 0.03982176,  0.25689677],\n",
       "        [ 0.4435957 , -0.14455593],\n",
       "        [ 0.1371969 , -0.26041208],\n",
       "        [ 0.19499064, -0.46317379],\n",
       "        [ 0.        ,  0.        ],\n",
       "        [ 0.32418027, -0.52623258],\n",
       "        [-0.12724816, -0.57564381],\n",
       "        [ 0.49073571,  0.11870898],\n",
       "        [ 0.37281044, -0.42776596]],\n",
       "\n",
       "       [[ 0.07843865,  0.53364461],\n",
       "        [-0.28435851,  0.78312935],\n",
       "        [ 0.11941543,  0.38167665],\n",
       "        [-0.18698337,  0.2658205 ],\n",
       "        [-0.12918963,  0.06305879],\n",
       "        [-0.32418027,  0.52623258],\n",
       "        [ 0.        ,  0.        ],\n",
       "        [-0.45142843, -0.04941123],\n",
       "        [ 0.16655544,  0.64494156],\n",
       "        [ 0.04863017,  0.09846663]],\n",
       "\n",
       "       [[ 0.52986707,  0.58305584],\n",
       "        [ 0.16706992,  0.83254058],\n",
       "        [ 0.57084386,  0.43108789],\n",
       "        [ 0.26444505,  0.31523174],\n",
       "        [ 0.32223879,  0.11247003],\n",
       "        [ 0.12724816,  0.57564381],\n",
       "        [ 0.45142843,  0.04941123],\n",
       "        [ 0.        ,  0.        ],\n",
       "        [ 0.61798387,  0.69435279],\n",
       "        [ 0.50005859,  0.14787786]],\n",
       "\n",
       "       [[-0.08811679, -0.11129695],\n",
       "        [-0.45091395,  0.13818779],\n",
       "        [-0.04714001, -0.26326491],\n",
       "        [-0.35353881, -0.37912106],\n",
       "        [-0.29574507, -0.58188277],\n",
       "        [-0.49073571, -0.11870898],\n",
       "        [-0.16655544, -0.64494156],\n",
       "        [-0.61798387, -0.69435279],\n",
       "        [ 0.        ,  0.        ],\n",
       "        [-0.11792527, -0.54647493]],\n",
       "\n",
       "       [[ 0.02980848,  0.43517798],\n",
       "        [-0.33298867,  0.68466272],\n",
       "        [ 0.07078526,  0.28321003],\n",
       "        [-0.23561354,  0.16735388],\n",
       "        [-0.1778198 , -0.03540783],\n",
       "        [-0.37281044,  0.42776596],\n",
       "        [-0.04863017, -0.09846663],\n",
       "        [-0.50005859, -0.14787786],\n",
       "        [ 0.11792527,  0.54647493],\n",
       "        [ 0.        ,  0.        ]]])"
      ]
     },
     "execution_count": 110,
     "metadata": {},
     "output_type": "execute_result"
    }
   ],
   "source": [
    "differences = X[:, np.newaxis, :] - X[np.newaxis, :, :]\n",
    "differences.shape\n",
    "differences"
   ]
  },
  {
   "cell_type": "code",
   "execution_count": 111,
   "metadata": {},
   "outputs": [],
   "source": [
    "dist_sq = np.sum((X[:,np.newaxis,:] - X[np.newaxis,:,:]) ** 2, axis=-1)"
   ]
  },
  {
   "cell_type": "code",
   "execution_count": 114,
   "metadata": {},
   "outputs": [
    {
     "name": "stdout",
     "output_type": "stream",
     "text": [
      "[[0 8 2 3 5 9 1 4 6 7]\n",
      " [1 5 0 8 3 2 4 9 6 7]\n",
      " [2 0 8 9 3 6 4 5 1 7]\n",
      " [3 4 9 5 6 2 0 7 8 1]\n",
      " [4 6 9 3 7 2 5 0 8 1]\n",
      " [5 1 3 0 2 4 8 9 7 6]\n",
      " [6 9 4 3 2 7 0 5 8 1]\n",
      " [7 4 3 6 9 5 2 0 1 8]\n",
      " [8 0 2 1 5 3 9 4 6 7]\n",
      " [9 6 4 3 2 0 7 8 5 1]]\n"
     ]
    }
   ],
   "source": [
    "nearest = np.argsort(dist_sq, axis=1)\n",
    "print(nearest)"
   ]
  },
  {
   "cell_type": "code",
   "execution_count": 115,
   "metadata": {},
   "outputs": [],
   "source": [
    "name = ['Alice', 'Bob', 'Cathy', 'Doug']\n",
    "age = [25, 45, 37, 19]\n",
    "weight = [55.0, 85.5, 68.0, 61.5]"
   ]
  },
  {
   "cell_type": "code",
   "execution_count": 121,
   "metadata": {},
   "outputs": [
    {
     "data": {
      "text/plain": [
       "dtype([('name', '<U10'), ('age', '<i4'), ('weight', '<f8')])"
      ]
     },
     "execution_count": 121,
     "metadata": {},
     "output_type": "execute_result"
    }
   ],
   "source": [
    "data = np.dtype({'names':('name', 'age', 'weight'),\n",
    "'formats':('U10', 'i4', 'f8')})\n",
    "data"
   ]
  },
  {
   "cell_type": "code",
   "execution_count": 122,
   "metadata": {},
   "outputs": [
    {
     "ename": "TypeError",
     "evalue": "'numpy.dtype[void]' object does not support item assignment",
     "output_type": "error",
     "traceback": [
      "\u001b[1;31m---------------------------------------------------------------------------\u001b[0m",
      "\u001b[1;31mTypeError\u001b[0m                                 Traceback (most recent call last)",
      "Cell \u001b[1;32mIn [122], line 1\u001b[0m\n\u001b[1;32m----> 1\u001b[0m data[\u001b[39m'\u001b[39;49m\u001b[39mname\u001b[39;49m\u001b[39m'\u001b[39;49m] \u001b[39m=\u001b[39m name\n\u001b[0;32m      2\u001b[0m data[\u001b[39m'\u001b[39m\u001b[39mage\u001b[39m\u001b[39m'\u001b[39m] \u001b[39m=\u001b[39m age\n\u001b[0;32m      3\u001b[0m data[\u001b[39m'\u001b[39m\u001b[39mweight\u001b[39m\u001b[39m'\u001b[39m] \u001b[39m=\u001b[39m weight\n",
      "\u001b[1;31mTypeError\u001b[0m: 'numpy.dtype[void]' object does not support item assignment"
     ]
    }
   ],
   "source": [
    "data['name'] = name\n",
    "data['age'] = age\n",
    "data['weight'] = weight\n",
    "print(data)"
   ]
  },
  {
   "cell_type": "code",
   "execution_count": 118,
   "metadata": {},
   "outputs": [
    {
     "data": {
      "text/plain": [
       "('Alice', 25, 55.)"
      ]
     },
     "execution_count": 118,
     "metadata": {},
     "output_type": "execute_result"
    }
   ],
   "source": [
    "data[0]"
   ]
  },
  {
   "cell_type": "code",
   "execution_count": 119,
   "metadata": {},
   "outputs": [
    {
     "data": {
      "text/plain": [
       "('Doug', 19, 61.5)"
      ]
     },
     "execution_count": 119,
     "metadata": {},
     "output_type": "execute_result"
    }
   ],
   "source": [
    "data[-1]"
   ]
  },
  {
   "cell_type": "code",
   "execution_count": null,
   "metadata": {},
   "outputs": [],
   "source": []
  }
 ],
 "metadata": {
  "kernelspec": {
   "display_name": "Python 3.10.8 64-bit",
   "language": "python",
   "name": "python3"
  },
  "language_info": {
   "codemirror_mode": {
    "name": "ipython",
    "version": 3
   },
   "file_extension": ".py",
   "mimetype": "text/x-python",
   "name": "python",
   "nbconvert_exporter": "python",
   "pygments_lexer": "ipython3",
   "version": "3.10.8"
  },
  "orig_nbformat": 4,
  "vscode": {
   "interpreter": {
    "hash": "f26fb8f1cc4af4fdab25dcb6e8ce33ad2ab890528954ea2c4dba7f2d5f34f9bb"
   }
  }
 },
 "nbformat": 4,
 "nbformat_minor": 2
}
